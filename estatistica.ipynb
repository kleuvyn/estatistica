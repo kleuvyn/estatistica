{
 "cells": [
  {
   "cell_type": "markdown",
   "id": "aacfa117-e44a-4c3f-84d8-a3bd725afacf",
   "metadata": {},
   "source": [
    "#  Loteria "
   ]
  },
  {
   "cell_type": "code",
   "execution_count": 1,
   "id": "2c55d5e9-819f-40aa-a260-a07e8e65d422",
   "metadata": {},
   "outputs": [
    {
     "name": "stdout",
     "output_type": "stream",
     "text": [
      "================================================================================\n",
      "SIMULADOR DA MEGA-SENA\n",
      "================================================================================\n",
      "Escolha 6 números únicos entre 1 e 60 para jogar!\n",
      "--------------------------------------------------------------------------------\n"
     ]
    },
    {
     "name": "stdin",
     "output_type": "stream",
     "text": [
      "Digite o 1º número:  10\n",
      "Digite o 2º número:  13\n",
      "Digite o 3º número:  14\n",
      "Digite o 4º número:  27\n",
      "Digite o 5º número:  30\n",
      "Digite o 6º número:  55\n"
     ]
    },
    {
     "name": "stdout",
     "output_type": "stream",
     "text": [
      "\n",
      "RESULTADO DO SORTEIO:\n",
      "================================================================================\n",
      "Números sorteados: [4, 19, 23, 28, 43, 58]\n",
      "Seus números:       [10, 13, 14, 27, 30, 55]\n",
      "Números acertados:  []\n",
      "Total de acertos:    0\n",
      "--------------------------------------------------------------------------------\n",
      "Não foi dessa vez... tente novamente!\n",
      "================================================================================\n",
      "Obrigado por jogar! Boa sorte no próximo sorteio!\n",
      "================================================================================\n"
     ]
    }
   ],
   "source": [
    "import random\n",
    "\n",
    "print(\"=\"*80)\n",
    "print(\"SIMULADOR DA MEGA-SENA\")\n",
    "print(\"=\"*80)\n",
    "print(\"Escolha 6 números únicos entre 1 e 60 para jogar!\")\n",
    "print(\"-\" * 80)\n",
    "\n",
    "# Entrada dos números do usuário\n",
    "meus_numeros = []\n",
    "while len(meus_numeros) < 6:\n",
    "    try:\n",
    "        num = int(input(f\"Digite o {len(meus_numeros)+1}º número: \"))\n",
    "        if num < 1 or num > 60:\n",
    "            print(\"Número fora do intervalo. Digite entre 1 e 60.\")\n",
    "        elif num in meus_numeros:\n",
    "            print(\"Você já escolheu esse número. Escolha outro.\")\n",
    "        else:\n",
    "            meus_numeros.append(num)\n",
    "    except ValueError:\n",
    "        print(\"Digite um número válido (apenas inteiros).\")\n",
    "\n",
    "# Sorteio da Mega-Sena\n",
    "resultado_sorteio = sorted(random.sample(range(1, 61), 6))\n",
    "acertos = sorted(set(meus_numeros) & set(resultado_sorteio))\n",
    "\n",
    "# Resultado\n",
    "print(\"\\nRESULTADO DO SORTEIO:\")\n",
    "print(\"=\" * 80)\n",
    "print(f\"Números sorteados: {resultado_sorteio}\")\n",
    "print(f\"Seus números:       {sorted(meus_numeros)}\")\n",
    "print(f\"Números acertados:  {acertos}\")\n",
    "print(f\"Total de acertos:    {len(acertos)}\")\n",
    "print(\"-\" *80)\n",
    "\n",
    "# Mensagem final\n",
    "if len(acertos) == 6:\n",
    "    print(\"PARABÉNS! Você acertou os 6 números da Mega-Sena!\")\n",
    "elif len(acertos) == 5:\n",
    "    print(\"Muito bem! Você fez uma QUINA!\")\n",
    "elif len(acertos) == 4:\n",
    "    print(\"Você fez uma QUADRA!\")\n",
    "else:\n",
    "    print(\"Não foi dessa vez... tente novamente!\")\n",
    "\n",
    "print(\"=\" * 80)\n",
    "print(\"Obrigado por jogar! Boa sorte no próximo sorteio!\")\n",
    "print(\"=\" * 80)\n"
   ]
  },
  {
   "cell_type": "markdown",
   "id": "a0750f90-cd6e-4436-8844-8f94d22b82cd",
   "metadata": {},
   "source": [
    "# Bet esportivo"
   ]
  },
  {
   "cell_type": "code",
   "execution_count": 3,
   "id": "1e221522-99ce-4bfd-8612-f6c305642dae",
   "metadata": {},
   "outputs": [
    {
     "name": "stdout",
     "output_type": "stream",
     "text": [
      "================================================================================\n",
      "BEM-VINDO AO SIMULADOR DE APOSTA ESPORTIVA VIRTUAL\n",
      "================================================================================\n",
      "Simule apostas com odd fixa e descubra se vale a pena jogar!\n",
      "Dados baseados em estatística e valor esperado.\n",
      "--------------------------------------------------------------------------------\n",
      "Odd oferecida pela casa: 1.8\n",
      "Chance real estimada:   50.0%\n",
      "--------------------------------------------------------------------------------\n"
     ]
    },
    {
     "name": "stdin",
     "output_type": "stream",
     "text": [
      "Digite o valor da sua aposta (R$):  1000\n"
     ]
    },
    {
     "name": "stdout",
     "output_type": "stream",
     "text": [
      "\n",
      "RESULTADO DA SUA SIMULAÇÃO:\n",
      "--------------------------------------------------------------------------------\n",
      "Valor apostado:          R$ 1000.00\n",
      "Ganho se acertar:         R$ 1800.00\n",
      "Retorno médio da aposta: R$ 400.00\n",
      "--------------------------------------------------------------------------------\n",
      "Aposta vantajosa no longo prazo! Você tem valor positivo!\n",
      "================================================================================\n",
      "Obrigado por simular conosco. Jogue com responsabilidade!\n",
      "\n"
     ]
    }
   ],
   "source": [
    "print(\"=\" * 80)\n",
    "print(\"BEM-VINDO AO SIMULADOR DE APOSTA ESPORTIVA VIRTUAL\")\n",
    "print(\"=\" * 80)\n",
    "print(\"Simule apostas com odd fixa e descubra se vale a pena jogar!\")\n",
    "print(\"Dados baseados em estatística e valor esperado.\")\n",
    "print(\"-\" * 80)\n",
    "\n",
    "# Parâmetros fixos simulando uma aposta de futebol\n",
    "odd = 1.80                    # Odd oferecida pela casa (ex: time favorito)\n",
    "chance_real = 0.50            # Chance real do time vencer (50%)\n",
    "\n",
    "print(f\"Odd oferecida pela casa: {odd}\")\n",
    "print(f\"Chance real estimada:   {chance_real * 100:.1f}%\")\n",
    "print(\"-\" * 80)\n",
    "\n",
    "# Entrada do valor apostado\n",
    "aposta = float(input(\"Digite o valor da sua aposta (R$): \"))\n",
    "\n",
    "# Cálculos\n",
    "ganho_se_acertar = odd * aposta\n",
    "ganho_esperado = ganho_se_acertar * chance_real\n",
    "perda_esperada = aposta * (1 - chance_real)\n",
    "valor_esperado = ganho_esperado - perda_esperada\n",
    "\n",
    "# Exibição dos resultados\n",
    "print(\"\\nRESULTADO DA SUA SIMULAÇÃO:\")\n",
    "print(\"-\" * 80)\n",
    "print(f\"Valor apostado:          R$ {aposta:.2f}\")\n",
    "print(f\"Ganho se acertar:         R$ {ganho_se_acertar:.2f}\")\n",
    "print(f\"Retorno médio da aposta: R$ {valor_esperado:.2f}\")\n",
    "print(\"-\" * 80)\n",
    "\n",
    "# Interpretação final estilo plataforma\n",
    "if valor_esperado > 0:\n",
    "    print(\"Aposta vantajosa no longo prazo! Você tem valor positivo!\")\n",
    "elif valor_esperado == 0:\n",
    "    print(\"Aposta neutra: estatisticamente equilibrada.\")\n",
    "else:\n",
    "    print(\"Aposta desfavorável: a casa tem vantagem matemática.\")\n",
    "\n",
    "print(\"=\" * 80)\n",
    "print(\"Obrigado por simular conosco. Jogue com responsabilidade!\")\n",
    "print(\"\" * 80)"
   ]
  },
  {
   "cell_type": "markdown",
   "id": "999ae8f6-368a-492b-9f8f-1f8158103e49",
   "metadata": {},
   "source": [
    "# Tigrinho / Cassino Online – Cálculo com RTP "
   ]
  },
  {
   "cell_type": "code",
   "execution_count": 5,
   "id": "dae772d5-208e-4963-8e90-2c86192a3992",
   "metadata": {},
   "outputs": [
    {
     "name": "stdout",
     "output_type": "stream",
     "text": [
      "\n",
      "BEM-VINDO AO SIMULADOR DO JOGO DO TIGRINHO\n",
      "====================================================================================================\n",
      "Neste jogo, você aposta um valor e o sistema devolve uma porcentagem média (RTP)\n",
      "Mas será que você sai ganhando? Vamos descobrir!\n",
      "----------------------------------------------------------------------------------------------------\n",
      "RTP do jogo (retorno ao jogador): 94.0%\n"
     ]
    },
    {
     "name": "stdin",
     "output_type": "stream",
     "text": [
      "Digite o valor que deseja apostar (R$):  44\n"
     ]
    },
    {
     "name": "stdout",
     "output_type": "stream",
     "text": [
      "\n",
      "RESULTADO DA SUA APOSTA:\n",
      "Valor apostado:        R$ 44.00\n",
      "Retorno estimado:      R$ 41.36\n",
      "Perda esperada:        R$ 2.64\n",
      "--------------------------------------------------\n",
      "Atenção: este jogo é programado para te dar prejuízo a longo prazo.\n",
      "================================================================================\n",
      "Simulação finalizada. Obrigado por jogar com responsabilidade!\n",
      "================================================================================\n"
     ]
    }
   ],
   "source": [
    "print(\"\"*100)\n",
    "print(\"BEM-VINDO AO SIMULADOR DO JOGO DO TIGRINHO\")\n",
    "print(\"=\"*100)\n",
    "print(\"Neste jogo, você aposta um valor e o sistema devolve uma porcentagem média (RTP)\")\n",
    "print(\"Mas será que você sai ganhando? Vamos descobrir!\")\n",
    "print(\"-\" * 100)\n",
    "\n",
    "# RTP fixo (simulando configuração do jogo)\n",
    "rtp = 0.94\n",
    "print(f\"RTP do jogo (retorno ao jogador): {rtp * 100:.1f}%\")\n",
    "\n",
    "# Entrada do valor apostado\n",
    "total_apostado = float(input(\"Digite o valor que deseja apostar (R$): \"))\n",
    "\n",
    "# Cálculos\n",
    "retorno_esperado = total_apostado * rtp\n",
    "perda_esperada = total_apostado - retorno_esperado\n",
    "\n",
    "# Resultado simulado como se fosse no site\n",
    "print(\"\\nRESULTADO DA SUA APOSTA:\")\n",
    "print(f\"Valor apostado:        R$ {total_apostado:.2f}\")\n",
    "print(f\"Retorno estimado:      R$ {retorno_esperado:.2f}\")\n",
    "print(f\"Perda esperada:        R$ {perda_esperada:.2f}\")\n",
    "print(\"-\" * 50)\n",
    "\n",
    "# Interpretação final (estilo mensagem do sistema)\n",
    "if rtp == 1:\n",
    "    print(\" Resultado neutro: o jogo não gera nem lucro nem prejuízo.\")\n",
    "elif rtp > 1:\n",
    "    print(\"Incrível! Este jogo está devolvendo mais do que recebe!\")\n",
    "else:\n",
    "    print(\"Atenção: este jogo é programado para te dar prejuízo a longo prazo.\")\n",
    "\n",
    "print(\"=\"*80)\n",
    "print(\"Simulação finalizada. Obrigado por jogar com responsabilidade!\")\n",
    "print(\"=\"*80)"
   ]
  },
  {
   "cell_type": "code",
   "execution_count": null,
   "id": "a1371b54-3c75-4c48-aeec-8232efbcdf43",
   "metadata": {},
   "outputs": [],
   "source": []
  }
 ],
 "metadata": {
  "kernelspec": {
   "display_name": "Python 3 (ipykernel)",
   "language": "python",
   "name": "python3"
  },
  "language_info": {
   "codemirror_mode": {
    "name": "ipython",
    "version": 3
   },
   "file_extension": ".py",
   "mimetype": "text/x-python",
   "name": "python",
   "nbconvert_exporter": "python",
   "pygments_lexer": "ipython3",
   "version": "3.11.5"
  }
 },
 "nbformat": 4,
 "nbformat_minor": 5
}
